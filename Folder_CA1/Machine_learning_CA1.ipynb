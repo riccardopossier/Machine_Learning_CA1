{
 "cells": [
  {
   "cell_type": "markdown",
   "metadata": {},
   "source": [
    "## Machine Learning Project"
   ]
  },
  {
   "cell_type": "markdown",
   "metadata": {},
   "source": [
    "**o What are the most important features for predicting X as a target variable?**\n",
    "\n",
    "**o Which classification approach do you prefer for the prediction of X as a target variable, and why?**\n",
    "\n",
    "**o How to classify the loyal and churn customers using Support Vector Machines?**\n",
    "\n",
    "**o Why is dimensionality reduction important in machine learning?**\n",
    "\n",
    "\n",
    "\n",
    "\n",
    "**a) Logical justification based on the reasoning for the specific choice of machine learning approaches.**\n",
    "\n",
    "**b) Multiple machine learning approaches (at least two) using hyperparameters and a comparison between the chosen modelling approaches.**\n",
    "\n",
    "**c) Visualise your comparison of ML modelling outcomes. You may use a statistical approach to argue that one feature is more important than other features (for example, using PCA).**\n",
    "\n",
    "**d) Cross-validation methods should be used to justify the authenticity of your ML results.**\n",
    "\n",
    "\n",
    "\n",
    "\n",
    "**1. Motivation, a description of the problem domain, and an explanation of how the project's goals are justified using Prediction /Classification / Clustering Rules / Dimensionality Reduction etc.. (10 marks)**\n",
    "\n",
    "**2. Characterization of data, explanation and description of techniques used for the variation in the accuracy across three training splits (10% / 20%/ 30%) using cross validation techniques. (30 marks)**\n",
    "\n",
    "**3. Interpret and explain the results obtained, discuss overfitting / underfitting / generalisation, provide a rationale for the chosen model and use visualisations to support your findings. Comments in Python code, conclusions of the project should be specified at the end of the report. Harvard Style must be used for citations and references. (20 marks)**\n",
    "\n",
    "**4. Each team member presents a PowerPoint presentation of their work (maximum 5 slides) to emphasize their distinctive contributions based on their involvement in the project's conceptual understanding, code development, and deployment. (20 marks individual)**\n",
    "\n",
    "**5. Each team member fully described their individual contributions to the project in a reflective journal, using at least 500 to 700 words as well as images, diagrams, figures, and visualizations to elaborate his/ her work. (20 marks individual)**\n"
   ]
  },
  {
   "cell_type": "markdown",
   "metadata": {},
   "source": [
    "#### Introduction"
   ]
  },
  {
   "cell_type": "markdown",
   "metadata": {},
   "source": [
    "#### Data Collection"
   ]
  },
  {
   "cell_type": "markdown",
   "metadata": {},
   "source": [
    "#### EDA"
   ]
  },
  {
   "cell_type": "markdown",
   "metadata": {},
   "source": [
    "#### Data Pre-processing"
   ]
  },
  {
   "cell_type": "markdown",
   "metadata": {},
   "source": [
    "#### Model Selection"
   ]
  },
  {
   "cell_type": "markdown",
   "metadata": {},
   "source": [
    "#### Data Splitting"
   ]
  },
  {
   "cell_type": "markdown",
   "metadata": {},
   "source": [
    "#### Training and Test"
   ]
  },
  {
   "cell_type": "markdown",
   "metadata": {},
   "source": [
    "#### Interpretation"
   ]
  }
 ],
 "metadata": {
  "language_info": {
   "name": "python"
  }
 },
 "nbformat": 4,
 "nbformat_minor": 2
}
