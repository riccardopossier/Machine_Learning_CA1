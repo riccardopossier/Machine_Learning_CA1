{
 "cells": [
  {
   "cell_type": "markdown",
   "metadata": {},
   "source": [
    "## Machine Learning Project"
   ]
  },
  {
   "cell_type": "markdown",
   "metadata": {},
   "source": [
    "**o What are the most important features for predicting X as a target variable?**\n",
    "\n",
    "**o Which classification approach do you prefer for the prediction of X as a target variable, and why?**\n",
    "\n",
    "**o How to classify the loyal and churn customers using Support Vector Machines?**\n",
    "\n",
    "**o Why is dimensionality reduction important in machine learning?**\n",
    "\n",
    "\n",
    "\n",
    "\n",
    "**a) Logical justification based on the reasoning for the specific choice of machine learning approaches.**\n",
    "\n",
    "**b) Multiple machine learning approaches (at least two) using hyperparameters and a comparison between the chosen modelling approaches.**\n",
    "\n",
    "**c) Visualise your comparison of ML modelling outcomes. You may use a statistical approach to argue that one feature is more important than other features (for example, using PCA).**\n",
    "\n",
    "**d) Cross-validation methods should be used to justify the authenticity of your ML results.**\n",
    "\n",
    "\n",
    "\n",
    "\n",
    "**1. Motivation, a description of the problem domain, and an explanation of how the project's goals are justified using Prediction /Classification / Clustering Rules / Dimensionality Reduction etc.. (10 marks)**\n",
    "\n",
    "**2. Characterization of data, explanation and description of techniques used for the variation in the accuracy across three training splits (10% / 20%/ 30%) using cross validation techniques. (30 marks)**\n",
    "\n",
    "**3. Interpret and explain the results obtained, discuss overfitting / underfitting / generalisation, provide a rationale for the chosen model and use visualisations to support your findings. Comments in Python code, conclusions of the project should be specified at the end of the report. Harvard Style must be used for citations and references. (20 marks)**\n",
    "\n",
    "**4. Each team member presents a PowerPoint presentation of their work (maximum 5 slides) to emphasize their distinctive contributions based on their involvement in the project's conceptual understanding, code development, and deployment. (20 marks individual)**\n",
    "\n",
    "**5. Each team member fully described their individual contributions to the project in a reflective journal, using at least 500 to 700 words as well as images, diagrams, figures, and visualizations to elaborate his/ her work. (20 marks individual)**\n"
   ]
  },
  {
   "cell_type": "markdown",
   "metadata": {},
   "source": [
    "#### Introduction"
   ]
  },
  {
   "cell_type": "markdown",
   "metadata": {},
   "source": [
    "#### Data Collection"
   ]
  },
  {
   "cell_type": "code",
   "execution_count": 1,
   "metadata": {},
   "outputs": [],
   "source": [
    "import pandas as pd\n",
    "import missingno as msno\n",
    "import matplotlib as plt\n",
    "import numpy as np\n",
    "import seaborn as sns\n",
    "df= pd.read_csv(\"Traffic_Crashes_-_Crashes.csv\")"
   ]
  },
  {
   "cell_type": "code",
   "execution_count": 2,
   "metadata": {},
   "outputs": [
    {
     "data": {
      "text/plain": [
       "(746498, 49)"
      ]
     },
     "execution_count": 2,
     "metadata": {},
     "output_type": "execute_result"
    }
   ],
   "source": [
    "df.shape"
   ]
  },
  {
   "cell_type": "code",
   "execution_count": 3,
   "metadata": {},
   "outputs": [
    {
     "data": {
      "text/html": [
       "<div>\n",
       "<style scoped>\n",
       "    .dataframe tbody tr th:only-of-type {\n",
       "        vertical-align: middle;\n",
       "    }\n",
       "\n",
       "    .dataframe tbody tr th {\n",
       "        vertical-align: top;\n",
       "    }\n",
       "\n",
       "    .dataframe thead th {\n",
       "        text-align: right;\n",
       "    }\n",
       "</style>\n",
       "<table border=\"1\" class=\"dataframe\">\n",
       "  <thead>\n",
       "    <tr style=\"text-align: right;\">\n",
       "      <th></th>\n",
       "      <th>CRASH_RECORD_ID</th>\n",
       "      <th>RD_NO</th>\n",
       "      <th>CRASH_DATE_EST_I</th>\n",
       "      <th>CRASH_DATE</th>\n",
       "      <th>POSTED_SPEED_LIMIT</th>\n",
       "      <th>TRAFFIC_CONTROL_DEVICE</th>\n",
       "      <th>DEVICE_CONDITION</th>\n",
       "      <th>WEATHER_CONDITION</th>\n",
       "      <th>LIGHTING_CONDITION</th>\n",
       "      <th>FIRST_CRASH_TYPE</th>\n",
       "      <th>TRAFFICWAY_TYPE</th>\n",
       "      <th>LANE_CNT</th>\n",
       "      <th>ALIGNMENT</th>\n",
       "      <th>ROADWAY_SURFACE_COND</th>\n",
       "      <th>ROAD_DEFECT</th>\n",
       "      <th>REPORT_TYPE</th>\n",
       "      <th>CRASH_TYPE</th>\n",
       "      <th>INTERSECTION_RELATED_I</th>\n",
       "      <th>NOT_RIGHT_OF_WAY_I</th>\n",
       "      <th>HIT_AND_RUN_I</th>\n",
       "      <th>DAMAGE</th>\n",
       "      <th>DATE_POLICE_NOTIFIED</th>\n",
       "      <th>PRIM_CONTRIBUTORY_CAUSE</th>\n",
       "      <th>SEC_CONTRIBUTORY_CAUSE</th>\n",
       "      <th>STREET_NO</th>\n",
       "      <th>STREET_DIRECTION</th>\n",
       "      <th>STREET_NAME</th>\n",
       "      <th>BEAT_OF_OCCURRENCE</th>\n",
       "      <th>PHOTOS_TAKEN_I</th>\n",
       "      <th>STATEMENTS_TAKEN_I</th>\n",
       "      <th>DOORING_I</th>\n",
       "      <th>WORK_ZONE_I</th>\n",
       "      <th>WORK_ZONE_TYPE</th>\n",
       "      <th>WORKERS_PRESENT_I</th>\n",
       "      <th>NUM_UNITS</th>\n",
       "      <th>MOST_SEVERE_INJURY</th>\n",
       "      <th>INJURIES_TOTAL</th>\n",
       "      <th>INJURIES_FATAL</th>\n",
       "      <th>INJURIES_INCAPACITATING</th>\n",
       "      <th>INJURIES_NON_INCAPACITATING</th>\n",
       "      <th>INJURIES_REPORTED_NOT_EVIDENT</th>\n",
       "      <th>INJURIES_NO_INDICATION</th>\n",
       "      <th>INJURIES_UNKNOWN</th>\n",
       "      <th>CRASH_HOUR</th>\n",
       "      <th>CRASH_DAY_OF_WEEK</th>\n",
       "      <th>CRASH_MONTH</th>\n",
       "      <th>LATITUDE</th>\n",
       "      <th>LONGITUDE</th>\n",
       "      <th>LOCATION</th>\n",
       "    </tr>\n",
       "  </thead>\n",
       "  <tbody>\n",
       "    <tr>\n",
       "      <th>0</th>\n",
       "      <td>012c5bfce715efb2f2b387d6dd86f9c13e9dc1809fb52a...</td>\n",
       "      <td>JG341943</td>\n",
       "      <td>NaN</td>\n",
       "      <td>07/12/2023 03:05:00 PM</td>\n",
       "      <td>30</td>\n",
       "      <td>NO CONTROLS</td>\n",
       "      <td>NO CONTROLS</td>\n",
       "      <td>CLEAR</td>\n",
       "      <td>DAYLIGHT</td>\n",
       "      <td>TURNING</td>\n",
       "      <td>NOT DIVIDED</td>\n",
       "      <td>NaN</td>\n",
       "      <td>STRAIGHT AND LEVEL</td>\n",
       "      <td>UNKNOWN</td>\n",
       "      <td>NO DEFECTS</td>\n",
       "      <td>NOT ON SCENE (DESK REPORT)</td>\n",
       "      <td>NO INJURY / DRIVE AWAY</td>\n",
       "      <td>NaN</td>\n",
       "      <td>NaN</td>\n",
       "      <td>NaN</td>\n",
       "      <td>OVER $1,500</td>\n",
       "      <td>07/15/2023 11:30:00 AM</td>\n",
       "      <td>IMPROPER TURNING/NO SIGNAL</td>\n",
       "      <td>UNABLE TO DETERMINE</td>\n",
       "      <td>4754</td>\n",
       "      <td>W</td>\n",
       "      <td>63RD ST</td>\n",
       "      <td>813.0</td>\n",
       "      <td>NaN</td>\n",
       "      <td>NaN</td>\n",
       "      <td>NaN</td>\n",
       "      <td>NaN</td>\n",
       "      <td>NaN</td>\n",
       "      <td>NaN</td>\n",
       "      <td>2</td>\n",
       "      <td>NO INDICATION OF INJURY</td>\n",
       "      <td>0.0</td>\n",
       "      <td>0.0</td>\n",
       "      <td>0.0</td>\n",
       "      <td>0.0</td>\n",
       "      <td>0.0</td>\n",
       "      <td>2.0</td>\n",
       "      <td>0.0</td>\n",
       "      <td>15</td>\n",
       "      <td>4</td>\n",
       "      <td>7</td>\n",
       "      <td>41.778542</td>\n",
       "      <td>-87.742065</td>\n",
       "      <td>POINT (-87.742064741348 41.778541938106)</td>\n",
       "    </tr>\n",
       "    <tr>\n",
       "      <th>1</th>\n",
       "      <td>01d457f032e23d935a0b8f6b4c88221375180ffd4cd959...</td>\n",
       "      <td>JG338388</td>\n",
       "      <td>NaN</td>\n",
       "      <td>07/12/2023 05:50:00 PM</td>\n",
       "      <td>30</td>\n",
       "      <td>NO CONTROLS</td>\n",
       "      <td>NO CONTROLS</td>\n",
       "      <td>CLEAR</td>\n",
       "      <td>DAYLIGHT</td>\n",
       "      <td>REAR END</td>\n",
       "      <td>NOT DIVIDED</td>\n",
       "      <td>NaN</td>\n",
       "      <td>STRAIGHT AND LEVEL</td>\n",
       "      <td>DRY</td>\n",
       "      <td>NO DEFECTS</td>\n",
       "      <td>NOT ON SCENE (DESK REPORT)</td>\n",
       "      <td>NO INJURY / DRIVE AWAY</td>\n",
       "      <td>NaN</td>\n",
       "      <td>NaN</td>\n",
       "      <td>NaN</td>\n",
       "      <td>$501 - $1,500</td>\n",
       "      <td>07/12/2023 06:41:00 PM</td>\n",
       "      <td>FOLLOWING TOO CLOSELY</td>\n",
       "      <td>NOT APPLICABLE</td>\n",
       "      <td>8300</td>\n",
       "      <td>S</td>\n",
       "      <td>PULASKI RD</td>\n",
       "      <td>834.0</td>\n",
       "      <td>NaN</td>\n",
       "      <td>NaN</td>\n",
       "      <td>NaN</td>\n",
       "      <td>NaN</td>\n",
       "      <td>NaN</td>\n",
       "      <td>NaN</td>\n",
       "      <td>2</td>\n",
       "      <td>NO INDICATION OF INJURY</td>\n",
       "      <td>0.0</td>\n",
       "      <td>0.0</td>\n",
       "      <td>0.0</td>\n",
       "      <td>0.0</td>\n",
       "      <td>0.0</td>\n",
       "      <td>2.0</td>\n",
       "      <td>0.0</td>\n",
       "      <td>17</td>\n",
       "      <td>4</td>\n",
       "      <td>7</td>\n",
       "      <td>41.742131</td>\n",
       "      <td>-87.721824</td>\n",
       "      <td>POINT (-87.72182410033 41.742130554062)</td>\n",
       "    </tr>\n",
       "    <tr>\n",
       "      <th>2</th>\n",
       "      <td>02249b4747a4bf40b88a8357304a98dfeaef9c38eebbf0...</td>\n",
       "      <td>JG350008</td>\n",
       "      <td>NaN</td>\n",
       "      <td>07/12/2023 02:00:00 PM</td>\n",
       "      <td>30</td>\n",
       "      <td>NO CONTROLS</td>\n",
       "      <td>NO CONTROLS</td>\n",
       "      <td>CLEAR</td>\n",
       "      <td>DAYLIGHT</td>\n",
       "      <td>OTHER OBJECT</td>\n",
       "      <td>NOT DIVIDED</td>\n",
       "      <td>NaN</td>\n",
       "      <td>STRAIGHT AND LEVEL</td>\n",
       "      <td>DRY</td>\n",
       "      <td>RUT, HOLES</td>\n",
       "      <td>NOT ON SCENE (DESK REPORT)</td>\n",
       "      <td>NO INJURY / DRIVE AWAY</td>\n",
       "      <td>NaN</td>\n",
       "      <td>Y</td>\n",
       "      <td>NaN</td>\n",
       "      <td>$501 - $1,500</td>\n",
       "      <td>07/21/2023 10:10:00 AM</td>\n",
       "      <td>NOT APPLICABLE</td>\n",
       "      <td>NOT APPLICABLE</td>\n",
       "      <td>9615</td>\n",
       "      <td>S</td>\n",
       "      <td>STONY ISLAND AVE</td>\n",
       "      <td>431.0</td>\n",
       "      <td>NaN</td>\n",
       "      <td>NaN</td>\n",
       "      <td>NaN</td>\n",
       "      <td>NaN</td>\n",
       "      <td>NaN</td>\n",
       "      <td>NaN</td>\n",
       "      <td>1</td>\n",
       "      <td>NO INDICATION OF INJURY</td>\n",
       "      <td>0.0</td>\n",
       "      <td>0.0</td>\n",
       "      <td>0.0</td>\n",
       "      <td>0.0</td>\n",
       "      <td>0.0</td>\n",
       "      <td>1.0</td>\n",
       "      <td>0.0</td>\n",
       "      <td>14</td>\n",
       "      <td>4</td>\n",
       "      <td>7</td>\n",
       "      <td>41.719844</td>\n",
       "      <td>-87.584790</td>\n",
       "      <td>POINT (-87.584789974824 41.719844228292)</td>\n",
       "    </tr>\n",
       "    <tr>\n",
       "      <th>3</th>\n",
       "      <td>03e3b6caad71b78ed9ae325648effa9512bfb2517aed30...</td>\n",
       "      <td>JG338049</td>\n",
       "      <td>NaN</td>\n",
       "      <td>07/12/2023 07:05:00 AM</td>\n",
       "      <td>30</td>\n",
       "      <td>TRAFFIC SIGNAL</td>\n",
       "      <td>UNKNOWN</td>\n",
       "      <td>FREEZING RAIN/DRIZZLE</td>\n",
       "      <td>DAYLIGHT</td>\n",
       "      <td>REAR END</td>\n",
       "      <td>NOT DIVIDED</td>\n",
       "      <td>NaN</td>\n",
       "      <td>STRAIGHT AND LEVEL</td>\n",
       "      <td>UNKNOWN</td>\n",
       "      <td>UNKNOWN</td>\n",
       "      <td>NOT ON SCENE (DESK REPORT)</td>\n",
       "      <td>NO INJURY / DRIVE AWAY</td>\n",
       "      <td>NaN</td>\n",
       "      <td>NaN</td>\n",
       "      <td>NaN</td>\n",
       "      <td>$501 - $1,500</td>\n",
       "      <td>07/12/2023 02:18:00 PM</td>\n",
       "      <td>FOLLOWING TOO CLOSELY</td>\n",
       "      <td>UNABLE TO DETERMINE</td>\n",
       "      <td>2370</td>\n",
       "      <td>N</td>\n",
       "      <td>ASHLAND AVE</td>\n",
       "      <td>1811.0</td>\n",
       "      <td>NaN</td>\n",
       "      <td>NaN</td>\n",
       "      <td>NaN</td>\n",
       "      <td>NaN</td>\n",
       "      <td>NaN</td>\n",
       "      <td>NaN</td>\n",
       "      <td>2</td>\n",
       "      <td>NO INDICATION OF INJURY</td>\n",
       "      <td>0.0</td>\n",
       "      <td>0.0</td>\n",
       "      <td>0.0</td>\n",
       "      <td>0.0</td>\n",
       "      <td>0.0</td>\n",
       "      <td>2.0</td>\n",
       "      <td>0.0</td>\n",
       "      <td>7</td>\n",
       "      <td>4</td>\n",
       "      <td>7</td>\n",
       "      <td>41.925105</td>\n",
       "      <td>-87.668291</td>\n",
       "      <td>POINT (-87.668291181568 41.925104953308)</td>\n",
       "    </tr>\n",
       "    <tr>\n",
       "      <th>4</th>\n",
       "      <td>0481fc919b38f1572d4ba04b069766102d904a662ff096...</td>\n",
       "      <td>JG338431</td>\n",
       "      <td>NaN</td>\n",
       "      <td>07/12/2023 06:30:00 PM</td>\n",
       "      <td>30</td>\n",
       "      <td>NO CONTROLS</td>\n",
       "      <td>NO CONTROLS</td>\n",
       "      <td>CLEAR</td>\n",
       "      <td>DAYLIGHT</td>\n",
       "      <td>REAR END</td>\n",
       "      <td>NOT DIVIDED</td>\n",
       "      <td>NaN</td>\n",
       "      <td>STRAIGHT AND LEVEL</td>\n",
       "      <td>WET</td>\n",
       "      <td>NO DEFECTS</td>\n",
       "      <td>NOT ON SCENE (DESK REPORT)</td>\n",
       "      <td>NO INJURY / DRIVE AWAY</td>\n",
       "      <td>NaN</td>\n",
       "      <td>NaN</td>\n",
       "      <td>NaN</td>\n",
       "      <td>OVER $1,500</td>\n",
       "      <td>07/12/2023 07:15:00 PM</td>\n",
       "      <td>FOLLOWING TOO CLOSELY</td>\n",
       "      <td>FOLLOWING TOO CLOSELY</td>\n",
       "      <td>5200</td>\n",
       "      <td>N</td>\n",
       "      <td>ELSTON AVE</td>\n",
       "      <td>1623.0</td>\n",
       "      <td>NaN</td>\n",
       "      <td>NaN</td>\n",
       "      <td>NaN</td>\n",
       "      <td>NaN</td>\n",
       "      <td>NaN</td>\n",
       "      <td>NaN</td>\n",
       "      <td>2</td>\n",
       "      <td>NO INDICATION OF INJURY</td>\n",
       "      <td>0.0</td>\n",
       "      <td>0.0</td>\n",
       "      <td>0.0</td>\n",
       "      <td>0.0</td>\n",
       "      <td>0.0</td>\n",
       "      <td>2.0</td>\n",
       "      <td>0.0</td>\n",
       "      <td>18</td>\n",
       "      <td>4</td>\n",
       "      <td>7</td>\n",
       "      <td>41.975258</td>\n",
       "      <td>-87.751991</td>\n",
       "      <td>POINT (-87.751990557158 41.97525809527)</td>\n",
       "    </tr>\n",
       "  </tbody>\n",
       "</table>\n",
       "</div>"
      ],
      "text/plain": [
       "                                     CRASH_RECORD_ID     RD_NO  \\\n",
       "0  012c5bfce715efb2f2b387d6dd86f9c13e9dc1809fb52a...  JG341943   \n",
       "1  01d457f032e23d935a0b8f6b4c88221375180ffd4cd959...  JG338388   \n",
       "2  02249b4747a4bf40b88a8357304a98dfeaef9c38eebbf0...  JG350008   \n",
       "3  03e3b6caad71b78ed9ae325648effa9512bfb2517aed30...  JG338049   \n",
       "4  0481fc919b38f1572d4ba04b069766102d904a662ff096...  JG338431   \n",
       "\n",
       "  CRASH_DATE_EST_I              CRASH_DATE  POSTED_SPEED_LIMIT  \\\n",
       "0              NaN  07/12/2023 03:05:00 PM                  30   \n",
       "1              NaN  07/12/2023 05:50:00 PM                  30   \n",
       "2              NaN  07/12/2023 02:00:00 PM                  30   \n",
       "3              NaN  07/12/2023 07:05:00 AM                  30   \n",
       "4              NaN  07/12/2023 06:30:00 PM                  30   \n",
       "\n",
       "  TRAFFIC_CONTROL_DEVICE DEVICE_CONDITION      WEATHER_CONDITION  \\\n",
       "0            NO CONTROLS      NO CONTROLS                  CLEAR   \n",
       "1            NO CONTROLS      NO CONTROLS                  CLEAR   \n",
       "2            NO CONTROLS      NO CONTROLS                  CLEAR   \n",
       "3         TRAFFIC SIGNAL          UNKNOWN  FREEZING RAIN/DRIZZLE   \n",
       "4            NO CONTROLS      NO CONTROLS                  CLEAR   \n",
       "\n",
       "  LIGHTING_CONDITION FIRST_CRASH_TYPE TRAFFICWAY_TYPE  LANE_CNT  \\\n",
       "0           DAYLIGHT          TURNING     NOT DIVIDED       NaN   \n",
       "1           DAYLIGHT         REAR END     NOT DIVIDED       NaN   \n",
       "2           DAYLIGHT     OTHER OBJECT     NOT DIVIDED       NaN   \n",
       "3           DAYLIGHT         REAR END     NOT DIVIDED       NaN   \n",
       "4           DAYLIGHT         REAR END     NOT DIVIDED       NaN   \n",
       "\n",
       "            ALIGNMENT ROADWAY_SURFACE_COND ROAD_DEFECT  \\\n",
       "0  STRAIGHT AND LEVEL              UNKNOWN  NO DEFECTS   \n",
       "1  STRAIGHT AND LEVEL                  DRY  NO DEFECTS   \n",
       "2  STRAIGHT AND LEVEL                  DRY  RUT, HOLES   \n",
       "3  STRAIGHT AND LEVEL              UNKNOWN     UNKNOWN   \n",
       "4  STRAIGHT AND LEVEL                  WET  NO DEFECTS   \n",
       "\n",
       "                  REPORT_TYPE              CRASH_TYPE INTERSECTION_RELATED_I  \\\n",
       "0  NOT ON SCENE (DESK REPORT)  NO INJURY / DRIVE AWAY                    NaN   \n",
       "1  NOT ON SCENE (DESK REPORT)  NO INJURY / DRIVE AWAY                    NaN   \n",
       "2  NOT ON SCENE (DESK REPORT)  NO INJURY / DRIVE AWAY                    NaN   \n",
       "3  NOT ON SCENE (DESK REPORT)  NO INJURY / DRIVE AWAY                    NaN   \n",
       "4  NOT ON SCENE (DESK REPORT)  NO INJURY / DRIVE AWAY                    NaN   \n",
       "\n",
       "  NOT_RIGHT_OF_WAY_I HIT_AND_RUN_I         DAMAGE    DATE_POLICE_NOTIFIED  \\\n",
       "0                NaN           NaN    OVER $1,500  07/15/2023 11:30:00 AM   \n",
       "1                NaN           NaN  $501 - $1,500  07/12/2023 06:41:00 PM   \n",
       "2                  Y           NaN  $501 - $1,500  07/21/2023 10:10:00 AM   \n",
       "3                NaN           NaN  $501 - $1,500  07/12/2023 02:18:00 PM   \n",
       "4                NaN           NaN    OVER $1,500  07/12/2023 07:15:00 PM   \n",
       "\n",
       "      PRIM_CONTRIBUTORY_CAUSE SEC_CONTRIBUTORY_CAUSE  STREET_NO  \\\n",
       "0  IMPROPER TURNING/NO SIGNAL    UNABLE TO DETERMINE       4754   \n",
       "1       FOLLOWING TOO CLOSELY         NOT APPLICABLE       8300   \n",
       "2              NOT APPLICABLE         NOT APPLICABLE       9615   \n",
       "3       FOLLOWING TOO CLOSELY    UNABLE TO DETERMINE       2370   \n",
       "4       FOLLOWING TOO CLOSELY  FOLLOWING TOO CLOSELY       5200   \n",
       "\n",
       "  STREET_DIRECTION       STREET_NAME  BEAT_OF_OCCURRENCE PHOTOS_TAKEN_I  \\\n",
       "0                W           63RD ST               813.0            NaN   \n",
       "1                S        PULASKI RD               834.0            NaN   \n",
       "2                S  STONY ISLAND AVE               431.0            NaN   \n",
       "3                N       ASHLAND AVE              1811.0            NaN   \n",
       "4                N        ELSTON AVE              1623.0            NaN   \n",
       "\n",
       "  STATEMENTS_TAKEN_I DOORING_I WORK_ZONE_I WORK_ZONE_TYPE WORKERS_PRESENT_I  \\\n",
       "0                NaN       NaN         NaN            NaN               NaN   \n",
       "1                NaN       NaN         NaN            NaN               NaN   \n",
       "2                NaN       NaN         NaN            NaN               NaN   \n",
       "3                NaN       NaN         NaN            NaN               NaN   \n",
       "4                NaN       NaN         NaN            NaN               NaN   \n",
       "\n",
       "   NUM_UNITS       MOST_SEVERE_INJURY  INJURIES_TOTAL  INJURIES_FATAL  \\\n",
       "0          2  NO INDICATION OF INJURY             0.0             0.0   \n",
       "1          2  NO INDICATION OF INJURY             0.0             0.0   \n",
       "2          1  NO INDICATION OF INJURY             0.0             0.0   \n",
       "3          2  NO INDICATION OF INJURY             0.0             0.0   \n",
       "4          2  NO INDICATION OF INJURY             0.0             0.0   \n",
       "\n",
       "   INJURIES_INCAPACITATING  INJURIES_NON_INCAPACITATING  \\\n",
       "0                      0.0                          0.0   \n",
       "1                      0.0                          0.0   \n",
       "2                      0.0                          0.0   \n",
       "3                      0.0                          0.0   \n",
       "4                      0.0                          0.0   \n",
       "\n",
       "   INJURIES_REPORTED_NOT_EVIDENT  INJURIES_NO_INDICATION  INJURIES_UNKNOWN  \\\n",
       "0                            0.0                     2.0               0.0   \n",
       "1                            0.0                     2.0               0.0   \n",
       "2                            0.0                     1.0               0.0   \n",
       "3                            0.0                     2.0               0.0   \n",
       "4                            0.0                     2.0               0.0   \n",
       "\n",
       "   CRASH_HOUR  CRASH_DAY_OF_WEEK  CRASH_MONTH   LATITUDE  LONGITUDE  \\\n",
       "0          15                  4            7  41.778542 -87.742065   \n",
       "1          17                  4            7  41.742131 -87.721824   \n",
       "2          14                  4            7  41.719844 -87.584790   \n",
       "3           7                  4            7  41.925105 -87.668291   \n",
       "4          18                  4            7  41.975258 -87.751991   \n",
       "\n",
       "                                   LOCATION  \n",
       "0  POINT (-87.742064741348 41.778541938106)  \n",
       "1   POINT (-87.72182410033 41.742130554062)  \n",
       "2  POINT (-87.584789974824 41.719844228292)  \n",
       "3  POINT (-87.668291181568 41.925104953308)  \n",
       "4   POINT (-87.751990557158 41.97525809527)  "
      ]
     },
     "execution_count": 3,
     "metadata": {},
     "output_type": "execute_result"
    }
   ],
   "source": [
    "pd.set_option('display.max_columns', None)\n",
    "df.head()"
   ]
  },
  {
   "cell_type": "code",
   "execution_count": 4,
   "metadata": {},
   "outputs": [],
   "source": [
    "#nan_graph_1=msno.matrix(df.sample(axis=1, n=49))"
   ]
  },
  {
   "cell_type": "code",
   "execution_count": 5,
   "metadata": {},
   "outputs": [],
   "source": [
    "#df.isnull().sum()"
   ]
  },
  {
   "cell_type": "markdown",
   "metadata": {},
   "source": [
    "\"MOST_SEVERE_INJURY\" will be our Target varible. As you can see there are 5 possible outcomes and 1630 Null values. We will need to address the fact that \"NO INDICATION OF INJURY\" occurs 643k times but \"FATAL\" only occurs 812."
   ]
  },
  {
   "cell_type": "code",
   "execution_count": 6,
   "metadata": {},
   "outputs": [
    {
     "data": {
      "text/plain": [
       "array(['NO INDICATION OF INJURY', 'REPORTED, NOT EVIDENT',\n",
       "       'NONINCAPACITATING INJURY', 'INCAPACITATING INJURY', nan, 'FATAL'],\n",
       "      dtype=object)"
      ]
     },
     "execution_count": 6,
     "metadata": {},
     "output_type": "execute_result"
    }
   ],
   "source": [
    "df[\"MOST_SEVERE_INJURY\"].unique()"
   ]
  },
  {
   "cell_type": "code",
   "execution_count": 7,
   "metadata": {},
   "outputs": [
    {
     "data": {
      "text/plain": [
       "NO INDICATION OF INJURY     643460\n",
       "NONINCAPACITATING INJURY     57308\n",
       "REPORTED, NOT EVIDENT        30560\n",
       "INCAPACITATING INJURY        12728\n",
       "FATAL                          812\n",
       "Name: MOST_SEVERE_INJURY, dtype: int64"
      ]
     },
     "execution_count": 7,
     "metadata": {},
     "output_type": "execute_result"
    }
   ],
   "source": [
    "df[\"MOST_SEVERE_INJURY\"].value_counts()"
   ]
  },
  {
   "cell_type": "code",
   "execution_count": 8,
   "metadata": {},
   "outputs": [
    {
     "data": {
      "text/plain": [
       "array([ 0., nan])"
      ]
     },
     "execution_count": 8,
     "metadata": {},
     "output_type": "execute_result"
    }
   ],
   "source": [
    "df[\"INJURIES_UNKNOWN\"].unique()"
   ]
  },
  {
   "cell_type": "code",
   "execution_count": 9,
   "metadata": {},
   "outputs": [],
   "source": [
    "# from ydata_profiling import ProfileReport\n",
    "# slice_df = df.iloc[:, :10]\n",
    "# report = ProfileReport(df, title='My Data', minimal=True)\n",
    "# report.to_file(\"Crushes_in_Chicago.html\")"
   ]
  },
  {
   "cell_type": "markdown",
   "metadata": {},
   "source": [
    "We proceed to cut off the constant variable \"INJURIES_UNKNOWN\" with number of Zeros (%)\t99.8%"
   ]
  },
  {
   "cell_type": "code",
   "execution_count": 10,
   "metadata": {},
   "outputs": [],
   "source": [
    "df = df.drop(columns=['INJURIES_UNKNOWN'])"
   ]
  },
  {
   "cell_type": "markdown",
   "metadata": {},
   "source": [
    "We drop the features: \"INJURIES_TOTAL\", \"INJURIES_FATAL\", \"INJURIES_INCAPACITATING\", \"INJURIES_NON_INCAPACITATING\", \"INJURIES_REPORTED_NOT_EVIDENT\", \"INJURIES_NO_INDICATION\" as they count the outcome of our target varible. Using these in the model will create a model that will reliant on them of and won't be appliable for predicting new data. "
   ]
  },
  {
   "cell_type": "code",
   "execution_count": 11,
   "metadata": {},
   "outputs": [],
   "source": [
    "df = df.drop(columns=[\"INJURIES_TOTAL\",\"INJURIES_FATAL\",\"INJURIES_INCAPACITATING\",\"INJURIES_NON_INCAPACITATING\",\"INJURIES_REPORTED_NOT_EVIDENT\",\"INJURIES_NO_INDICATION\"])"
   ]
  },
  {
   "cell_type": "markdown",
   "metadata": {},
   "source": [
    "We drop \"CRASH_RECORD_ID\" as it only has unique values"
   ]
  },
  {
   "cell_type": "code",
   "execution_count": 12,
   "metadata": {},
   "outputs": [],
   "source": [
    "df =df.drop(columns='CRASH_RECORD_ID')"
   ]
  },
  {
   "cell_type": "markdown",
   "metadata": {},
   "source": [
    "We proceed to cut off all the variables with 65% or more of missing values."
   ]
  },
  {
   "cell_type": "code",
   "execution_count": 13,
   "metadata": {},
   "outputs": [],
   "source": [
    "df = df.drop(columns=['CRASH_DATE_EST_I','LANE_CNT', 'INTERSECTION_RELATED_I', 'NOT_RIGHT_OF_WAY_I', 'HIT_AND_RUN_I', 'PHOTOS_TAKEN_I', 'STATEMENTS_TAKEN_I', 'DOORING_I', 'WORK_ZONE_I','WORK_ZONE_TYPE', 'WORKERS_PRESENT_I'])"
   ]
  },
  {
   "cell_type": "code",
   "execution_count": 14,
   "metadata": {},
   "outputs": [
    {
     "data": {
      "text/plain": [
       "(746498, 30)"
      ]
     },
     "execution_count": 14,
     "metadata": {},
     "output_type": "execute_result"
    }
   ],
   "source": [
    "df.shape"
   ]
  },
  {
   "cell_type": "markdown",
   "metadata": {},
   "source": [
    "Dropping all rows where our target varible is NAN."
   ]
  },
  {
   "cell_type": "code",
   "execution_count": 15,
   "metadata": {},
   "outputs": [],
   "source": [
    "df.dropna(subset=[\"MOST_SEVERE_INJURY\"],inplace=True)"
   ]
  },
  {
   "cell_type": "code",
   "execution_count": 16,
   "metadata": {},
   "outputs": [],
   "source": [
    "#df.isnull().sum()"
   ]
  },
  {
   "cell_type": "markdown",
   "metadata": {},
   "source": [
    "Null values now are REPORT_TYPE which seems to be how police report the crash after the crash has happened, LATITUDE\n",
    "LONGITUDE and LOCATION which report same info as STREET NO AND STREET NAME, recommand we just drop these three. RD_NO. adn few in STREET_DIRECTION, SREET_NAME and BEAT_OF_OCCURRENCE. Can drop these rows,10 rows isn't significate. "
   ]
  },
  {
   "cell_type": "code",
   "execution_count": 17,
   "metadata": {},
   "outputs": [],
   "source": [
    "df =df.drop(columns=['LATITUDE', 'LONGITUDE', 'LOCATION','REPORT_TYPE'])"
   ]
  },
  {
   "cell_type": "code",
   "execution_count": 18,
   "metadata": {},
   "outputs": [],
   "source": [
    "df.dropna(subset=[\"STREET_DIRECTION\", \"STREET_NAME\", \"BEAT_OF_OCCURRENCE\"],inplace=True)"
   ]
  },
  {
   "cell_type": "markdown",
   "metadata": {},
   "source": [
    "After investigating the \"RD_NO\" feature a bit further, we discovered that it also only has Unique Values, so simularily to \"CRASH_RECORD_ID\" we are going to drop it. The dataset is now full cleaned. "
   ]
  },
  {
   "cell_type": "code",
   "execution_count": 19,
   "metadata": {},
   "outputs": [
    {
     "data": {
      "text/plain": [
       "count       740565\n",
       "unique      740565\n",
       "top       JG341943\n",
       "freq             1\n",
       "Name: RD_NO, dtype: object"
      ]
     },
     "execution_count": 19,
     "metadata": {},
     "output_type": "execute_result"
    }
   ],
   "source": [
    "df['RD_NO'].describe()"
   ]
  },
  {
   "cell_type": "code",
   "execution_count": 20,
   "metadata": {},
   "outputs": [],
   "source": [
    "df =df.drop(columns='RD_NO')"
   ]
  },
  {
   "cell_type": "code",
   "execution_count": 21,
   "metadata": {},
   "outputs": [],
   "source": [
    "df =df.drop(columns='CRASH_DATE')"
   ]
  },
  {
   "cell_type": "code",
   "execution_count": 22,
   "metadata": {},
   "outputs": [
    {
     "name": "stdout",
     "output_type": "stream",
     "text": [
      "<class 'pandas.core.frame.DataFrame'>\n",
      "Int64Index: 744859 entries, 0 to 746497\n",
      "Data columns (total 24 columns):\n",
      " #   Column                   Non-Null Count   Dtype  \n",
      "---  ------                   --------------   -----  \n",
      " 0   POSTED_SPEED_LIMIT       744859 non-null  int64  \n",
      " 1   TRAFFIC_CONTROL_DEVICE   744859 non-null  object \n",
      " 2   DEVICE_CONDITION         744859 non-null  object \n",
      " 3   WEATHER_CONDITION        744859 non-null  object \n",
      " 4   LIGHTING_CONDITION       744859 non-null  object \n",
      " 5   FIRST_CRASH_TYPE         744859 non-null  object \n",
      " 6   TRAFFICWAY_TYPE          744859 non-null  object \n",
      " 7   ALIGNMENT                744859 non-null  object \n",
      " 8   ROADWAY_SURFACE_COND     744859 non-null  object \n",
      " 9   ROAD_DEFECT              744859 non-null  object \n",
      " 10  CRASH_TYPE               744859 non-null  object \n",
      " 11  DAMAGE                   744859 non-null  object \n",
      " 12  DATE_POLICE_NOTIFIED     744859 non-null  object \n",
      " 13  PRIM_CONTRIBUTORY_CAUSE  744859 non-null  object \n",
      " 14  SEC_CONTRIBUTORY_CAUSE   744859 non-null  object \n",
      " 15  STREET_NO                744859 non-null  int64  \n",
      " 16  STREET_DIRECTION         744859 non-null  object \n",
      " 17  STREET_NAME              744859 non-null  object \n",
      " 18  BEAT_OF_OCCURRENCE       744859 non-null  float64\n",
      " 19  NUM_UNITS                744859 non-null  int64  \n",
      " 20  MOST_SEVERE_INJURY       744859 non-null  object \n",
      " 21  CRASH_HOUR               744859 non-null  int64  \n",
      " 22  CRASH_DAY_OF_WEEK        744859 non-null  int64  \n",
      " 23  CRASH_MONTH              744859 non-null  int64  \n",
      "dtypes: float64(1), int64(6), object(17)\n",
      "memory usage: 142.1+ MB\n"
     ]
    }
   ],
   "source": [
    "df.info()"
   ]
  },
  {
   "cell_type": "code",
   "execution_count": 23,
   "metadata": {},
   "outputs": [],
   "source": [
    "from sklearn.tree import DecisionTreeClassifier       \n",
    "from sklearn.model_selection import train_test_split  \n",
    "from sklearn import metrics                           \n",
    "from sklearn import tree\n",
    "from sklearn.metrics import accuracy_score, confusion_matrix, recall_score\n",
    "from imblearn.over_sampling import SMOTENC\n",
    "from imblearn.under_sampling import NearMiss\n",
    "import warnings\n",
    "warnings.filterwarnings('ignore')"
   ]
  },
  {
   "cell_type": "code",
   "execution_count": 24,
   "metadata": {},
   "outputs": [
    {
     "name": "stdout",
     "output_type": "stream",
     "text": [
      "NO INDICATION OF INJURY     200000\n",
      "NONINCAPACITATING INJURY     57308\n",
      "REPORTED, NOT EVIDENT        30560\n",
      "INCAPACITATING INJURY        12728\n",
      "FATAL                          812\n",
      "Name: MOST_SEVERE_INJURY, dtype: int64\n"
     ]
    }
   ],
   "source": [
    "# Define the desired number of samples for each class\n",
    "\n",
    "desired_samples = {\n",
    "    'NO INDICATION OF INJURY': 200000,\n",
    "    'NONINCAPACITATING INJURY': 57308,\n",
    "    'REPORTED, NOT EVIDENT': 30560,\n",
    "    'INCAPACITATING INJURY': 12728,\n",
    "    'FATAL': 812\n",
    "}\n",
    "\n",
    "# Separate the data by class\n",
    "class_data = {}\n",
    "for class_label in desired_samples.keys():\n",
    "    class_data[class_label] = df[df['MOST_SEVERE_INJURY'] == class_label]\n",
    "\n",
    "# Sample exactly 200,000 rows from the \"NO INDICATION OF INJURY\" class\n",
    "sampled_majority = class_data['NO INDICATION OF INJURY'].sample(n=desired_samples['NO INDICATION OF INJURY'], random_state=42)\n",
    "\n",
    "# Combine the sampled majority class with the minority classes\n",
    "sampled_df = pd.concat([sampled_majority] + [class_data[class_label] for class_label in class_data if class_label != 'NO INDICATION OF INJURY'])\n",
    "\n",
    "# Shuffle the rows to randomize the order\n",
    "sampled_df = sampled_df.sample(frac=1, random_state=42).reset_index(drop=True)\n",
    "\n",
    "# Verify the class distribution\n",
    "print(sampled_df['MOST_SEVERE_INJURY'].value_counts())"
   ]
  },
  {
   "cell_type": "code",
   "execution_count": 25,
   "metadata": {},
   "outputs": [
    {
     "name": "stdout",
     "output_type": "stream",
     "text": [
      "0    200000\n",
      "1    101408\n",
      "Name: MOST_SEVERE_INJURY, dtype: int64\n"
     ]
    }
   ],
   "source": [
    "from sklearn.preprocessing import LabelEncoder\n",
    "\n",
    "label_encoder = LabelEncoder()\n",
    "\n",
    "sampled_df['MOST_SEVERE_INJURY'] = label_encoder.fit_transform(sampled_df['MOST_SEVERE_INJURY'])\n",
    "\n",
    "\n",
    "sampled_df['MOST_SEVERE_INJURY'] = sampled_df['MOST_SEVERE_INJURY'].replace(0, 1)\n",
    "sampled_df['MOST_SEVERE_INJURY'] = sampled_df['MOST_SEVERE_INJURY'].replace(2,0)\n",
    "sampled_df['MOST_SEVERE_INJURY'] = sampled_df['MOST_SEVERE_INJURY'].replace(3, 1)\n",
    "sampled_df['MOST_SEVERE_INJURY'] = sampled_df['MOST_SEVERE_INJURY'].replace(4, 1)\n",
    "\n",
    "\n",
    "\n",
    "print(sampled_df['MOST_SEVERE_INJURY'].value_counts())"
   ]
  },
  {
   "cell_type": "code",
   "execution_count": 26,
   "metadata": {},
   "outputs": [],
   "source": [
    "X=sampled_df.drop(columns=\"MOST_SEVERE_INJURY\", inplace=False)\n",
    "y=sampled_df['MOST_SEVERE_INJURY']"
   ]
  },
  {
   "cell_type": "code",
   "execution_count": 27,
   "metadata": {},
   "outputs": [
    {
     "data": {
      "text/plain": [
       "((271267, 23), (30141, 23), (271267,), (30141,))"
      ]
     },
     "execution_count": 27,
     "metadata": {},
     "output_type": "execute_result"
    }
   ],
   "source": [
    "X_train, X_test, y_train, y_test = train_test_split(X, y, test_size = 0.1, random_state = 1, stratify=y)\n",
    "X_train.shape, X_test.shape,y_train.shape, y_test.shape"
   ]
  },
  {
   "cell_type": "code",
   "execution_count": 29,
   "metadata": {},
   "outputs": [
    {
     "ename": "ValueError",
     "evalue": "could not convert string to float: 'NO CONTROLS'",
     "output_type": "error",
     "traceback": [
      "\u001b[1;31m---------------------------------------------------------------------------\u001b[0m",
      "\u001b[1;31mValueError\u001b[0m                                Traceback (most recent call last)",
      "Cell \u001b[1;32mIn[29], line 2\u001b[0m\n\u001b[0;32m      1\u001b[0m clf \u001b[38;5;241m=\u001b[39m DecisionTreeClassifier(max_depth \u001b[38;5;241m=\u001b[39m \u001b[38;5;28;01mNone\u001b[39;00m, random_state \u001b[38;5;241m=\u001b[39m \u001b[38;5;241m1\u001b[39m)\n\u001b[1;32m----> 2\u001b[0m clf \u001b[38;5;241m=\u001b[39m clf\u001b[38;5;241m.\u001b[39mfit(X_train, y_train)\n\u001b[0;32m      3\u001b[0m y_pred \u001b[38;5;241m=\u001b[39m clf\u001b[38;5;241m.\u001b[39mpredict(X_test)\n\u001b[0;32m      4\u001b[0m \u001b[38;5;28mprint\u001b[39m(\u001b[38;5;124m\"\u001b[39m\u001b[38;5;124mAccuracy:\u001b[39m\u001b[38;5;124m\"\u001b[39m,metrics\u001b[38;5;241m.\u001b[39maccuracy_score(y_test, y_pred))\n",
      "File \u001b[1;32m~\\anaconda3\\Lib\\site-packages\\sklearn\\base.py:1151\u001b[0m, in \u001b[0;36m_fit_context.<locals>.decorator.<locals>.wrapper\u001b[1;34m(estimator, *args, **kwargs)\u001b[0m\n\u001b[0;32m   1144\u001b[0m     estimator\u001b[38;5;241m.\u001b[39m_validate_params()\n\u001b[0;32m   1146\u001b[0m \u001b[38;5;28;01mwith\u001b[39;00m config_context(\n\u001b[0;32m   1147\u001b[0m     skip_parameter_validation\u001b[38;5;241m=\u001b[39m(\n\u001b[0;32m   1148\u001b[0m         prefer_skip_nested_validation \u001b[38;5;129;01mor\u001b[39;00m global_skip_validation\n\u001b[0;32m   1149\u001b[0m     )\n\u001b[0;32m   1150\u001b[0m ):\n\u001b[1;32m-> 1151\u001b[0m     \u001b[38;5;28;01mreturn\u001b[39;00m fit_method(estimator, \u001b[38;5;241m*\u001b[39margs, \u001b[38;5;241m*\u001b[39m\u001b[38;5;241m*\u001b[39mkwargs)\n",
      "File \u001b[1;32m~\\anaconda3\\Lib\\site-packages\\sklearn\\tree\\_classes.py:959\u001b[0m, in \u001b[0;36mDecisionTreeClassifier.fit\u001b[1;34m(self, X, y, sample_weight, check_input)\u001b[0m\n\u001b[0;32m    928\u001b[0m \u001b[38;5;129m@_fit_context\u001b[39m(prefer_skip_nested_validation\u001b[38;5;241m=\u001b[39m\u001b[38;5;28;01mTrue\u001b[39;00m)\n\u001b[0;32m    929\u001b[0m \u001b[38;5;28;01mdef\u001b[39;00m \u001b[38;5;21mfit\u001b[39m(\u001b[38;5;28mself\u001b[39m, X, y, sample_weight\u001b[38;5;241m=\u001b[39m\u001b[38;5;28;01mNone\u001b[39;00m, check_input\u001b[38;5;241m=\u001b[39m\u001b[38;5;28;01mTrue\u001b[39;00m):\n\u001b[0;32m    930\u001b[0m \u001b[38;5;250m    \u001b[39m\u001b[38;5;124;03m\"\"\"Build a decision tree classifier from the training set (X, y).\u001b[39;00m\n\u001b[0;32m    931\u001b[0m \n\u001b[0;32m    932\u001b[0m \u001b[38;5;124;03m    Parameters\u001b[39;00m\n\u001b[1;32m   (...)\u001b[0m\n\u001b[0;32m    956\u001b[0m \u001b[38;5;124;03m        Fitted estimator.\u001b[39;00m\n\u001b[0;32m    957\u001b[0m \u001b[38;5;124;03m    \"\"\"\u001b[39;00m\n\u001b[1;32m--> 959\u001b[0m     \u001b[38;5;28msuper\u001b[39m()\u001b[38;5;241m.\u001b[39m_fit(\n\u001b[0;32m    960\u001b[0m         X,\n\u001b[0;32m    961\u001b[0m         y,\n\u001b[0;32m    962\u001b[0m         sample_weight\u001b[38;5;241m=\u001b[39msample_weight,\n\u001b[0;32m    963\u001b[0m         check_input\u001b[38;5;241m=\u001b[39mcheck_input,\n\u001b[0;32m    964\u001b[0m     )\n\u001b[0;32m    965\u001b[0m     \u001b[38;5;28;01mreturn\u001b[39;00m \u001b[38;5;28mself\u001b[39m\n",
      "File \u001b[1;32m~\\anaconda3\\Lib\\site-packages\\sklearn\\tree\\_classes.py:242\u001b[0m, in \u001b[0;36mBaseDecisionTree._fit\u001b[1;34m(self, X, y, sample_weight, check_input, missing_values_in_feature_mask)\u001b[0m\n\u001b[0;32m    238\u001b[0m check_X_params \u001b[38;5;241m=\u001b[39m \u001b[38;5;28mdict\u001b[39m(\n\u001b[0;32m    239\u001b[0m     dtype\u001b[38;5;241m=\u001b[39mDTYPE, accept_sparse\u001b[38;5;241m=\u001b[39m\u001b[38;5;124m\"\u001b[39m\u001b[38;5;124mcsc\u001b[39m\u001b[38;5;124m\"\u001b[39m, force_all_finite\u001b[38;5;241m=\u001b[39m\u001b[38;5;28;01mFalse\u001b[39;00m\n\u001b[0;32m    240\u001b[0m )\n\u001b[0;32m    241\u001b[0m check_y_params \u001b[38;5;241m=\u001b[39m \u001b[38;5;28mdict\u001b[39m(ensure_2d\u001b[38;5;241m=\u001b[39m\u001b[38;5;28;01mFalse\u001b[39;00m, dtype\u001b[38;5;241m=\u001b[39m\u001b[38;5;28;01mNone\u001b[39;00m)\n\u001b[1;32m--> 242\u001b[0m X, y \u001b[38;5;241m=\u001b[39m \u001b[38;5;28mself\u001b[39m\u001b[38;5;241m.\u001b[39m_validate_data(\n\u001b[0;32m    243\u001b[0m     X, y, validate_separately\u001b[38;5;241m=\u001b[39m(check_X_params, check_y_params)\n\u001b[0;32m    244\u001b[0m )\n\u001b[0;32m    246\u001b[0m missing_values_in_feature_mask \u001b[38;5;241m=\u001b[39m (\n\u001b[0;32m    247\u001b[0m     \u001b[38;5;28mself\u001b[39m\u001b[38;5;241m.\u001b[39m_compute_missing_values_in_feature_mask(X)\n\u001b[0;32m    248\u001b[0m )\n\u001b[0;32m    249\u001b[0m \u001b[38;5;28;01mif\u001b[39;00m issparse(X):\n",
      "File \u001b[1;32m~\\anaconda3\\Lib\\site-packages\\sklearn\\base.py:616\u001b[0m, in \u001b[0;36mBaseEstimator._validate_data\u001b[1;34m(self, X, y, reset, validate_separately, cast_to_ndarray, **check_params)\u001b[0m\n\u001b[0;32m    614\u001b[0m \u001b[38;5;28;01mif\u001b[39;00m \u001b[38;5;124m\"\u001b[39m\u001b[38;5;124mestimator\u001b[39m\u001b[38;5;124m\"\u001b[39m \u001b[38;5;129;01mnot\u001b[39;00m \u001b[38;5;129;01min\u001b[39;00m check_X_params:\n\u001b[0;32m    615\u001b[0m     check_X_params \u001b[38;5;241m=\u001b[39m {\u001b[38;5;241m*\u001b[39m\u001b[38;5;241m*\u001b[39mdefault_check_params, \u001b[38;5;241m*\u001b[39m\u001b[38;5;241m*\u001b[39mcheck_X_params}\n\u001b[1;32m--> 616\u001b[0m X \u001b[38;5;241m=\u001b[39m check_array(X, input_name\u001b[38;5;241m=\u001b[39m\u001b[38;5;124m\"\u001b[39m\u001b[38;5;124mX\u001b[39m\u001b[38;5;124m\"\u001b[39m, \u001b[38;5;241m*\u001b[39m\u001b[38;5;241m*\u001b[39mcheck_X_params)\n\u001b[0;32m    617\u001b[0m \u001b[38;5;28;01mif\u001b[39;00m \u001b[38;5;124m\"\u001b[39m\u001b[38;5;124mestimator\u001b[39m\u001b[38;5;124m\"\u001b[39m \u001b[38;5;129;01mnot\u001b[39;00m \u001b[38;5;129;01min\u001b[39;00m check_y_params:\n\u001b[0;32m    618\u001b[0m     check_y_params \u001b[38;5;241m=\u001b[39m {\u001b[38;5;241m*\u001b[39m\u001b[38;5;241m*\u001b[39mdefault_check_params, \u001b[38;5;241m*\u001b[39m\u001b[38;5;241m*\u001b[39mcheck_y_params}\n",
      "File \u001b[1;32m~\\anaconda3\\Lib\\site-packages\\sklearn\\utils\\validation.py:917\u001b[0m, in \u001b[0;36mcheck_array\u001b[1;34m(array, accept_sparse, accept_large_sparse, dtype, order, copy, force_all_finite, ensure_2d, allow_nd, ensure_min_samples, ensure_min_features, estimator, input_name)\u001b[0m\n\u001b[0;32m    915\u001b[0m         array \u001b[38;5;241m=\u001b[39m xp\u001b[38;5;241m.\u001b[39mastype(array, dtype, copy\u001b[38;5;241m=\u001b[39m\u001b[38;5;28;01mFalse\u001b[39;00m)\n\u001b[0;32m    916\u001b[0m     \u001b[38;5;28;01melse\u001b[39;00m:\n\u001b[1;32m--> 917\u001b[0m         array \u001b[38;5;241m=\u001b[39m _asarray_with_order(array, order\u001b[38;5;241m=\u001b[39morder, dtype\u001b[38;5;241m=\u001b[39mdtype, xp\u001b[38;5;241m=\u001b[39mxp)\n\u001b[0;32m    918\u001b[0m \u001b[38;5;28;01mexcept\u001b[39;00m ComplexWarning \u001b[38;5;28;01mas\u001b[39;00m complex_warning:\n\u001b[0;32m    919\u001b[0m     \u001b[38;5;28;01mraise\u001b[39;00m \u001b[38;5;167;01mValueError\u001b[39;00m(\n\u001b[0;32m    920\u001b[0m         \u001b[38;5;124m\"\u001b[39m\u001b[38;5;124mComplex data not supported\u001b[39m\u001b[38;5;130;01m\\n\u001b[39;00m\u001b[38;5;132;01m{}\u001b[39;00m\u001b[38;5;130;01m\\n\u001b[39;00m\u001b[38;5;124m\"\u001b[39m\u001b[38;5;241m.\u001b[39mformat(array)\n\u001b[0;32m    921\u001b[0m     ) \u001b[38;5;28;01mfrom\u001b[39;00m \u001b[38;5;21;01mcomplex_warning\u001b[39;00m\n",
      "File \u001b[1;32m~\\anaconda3\\Lib\\site-packages\\sklearn\\utils\\_array_api.py:380\u001b[0m, in \u001b[0;36m_asarray_with_order\u001b[1;34m(array, dtype, order, copy, xp)\u001b[0m\n\u001b[0;32m    378\u001b[0m     array \u001b[38;5;241m=\u001b[39m numpy\u001b[38;5;241m.\u001b[39marray(array, order\u001b[38;5;241m=\u001b[39morder, dtype\u001b[38;5;241m=\u001b[39mdtype)\n\u001b[0;32m    379\u001b[0m \u001b[38;5;28;01melse\u001b[39;00m:\n\u001b[1;32m--> 380\u001b[0m     array \u001b[38;5;241m=\u001b[39m numpy\u001b[38;5;241m.\u001b[39masarray(array, order\u001b[38;5;241m=\u001b[39morder, dtype\u001b[38;5;241m=\u001b[39mdtype)\n\u001b[0;32m    382\u001b[0m \u001b[38;5;66;03m# At this point array is a NumPy ndarray. We convert it to an array\u001b[39;00m\n\u001b[0;32m    383\u001b[0m \u001b[38;5;66;03m# container that is consistent with the input's namespace.\u001b[39;00m\n\u001b[0;32m    384\u001b[0m \u001b[38;5;28;01mreturn\u001b[39;00m xp\u001b[38;5;241m.\u001b[39masarray(array)\n",
      "File \u001b[1;32m~\\anaconda3\\Lib\\site-packages\\pandas\\core\\generic.py:2070\u001b[0m, in \u001b[0;36mNDFrame.__array__\u001b[1;34m(self, dtype)\u001b[0m\n\u001b[0;32m   2069\u001b[0m \u001b[38;5;28;01mdef\u001b[39;00m \u001b[38;5;21m__array__\u001b[39m(\u001b[38;5;28mself\u001b[39m, dtype: npt\u001b[38;5;241m.\u001b[39mDTypeLike \u001b[38;5;241m|\u001b[39m \u001b[38;5;28;01mNone\u001b[39;00m \u001b[38;5;241m=\u001b[39m \u001b[38;5;28;01mNone\u001b[39;00m) \u001b[38;5;241m-\u001b[39m\u001b[38;5;241m>\u001b[39m np\u001b[38;5;241m.\u001b[39mndarray:\n\u001b[1;32m-> 2070\u001b[0m     \u001b[38;5;28;01mreturn\u001b[39;00m np\u001b[38;5;241m.\u001b[39masarray(\u001b[38;5;28mself\u001b[39m\u001b[38;5;241m.\u001b[39m_values, dtype\u001b[38;5;241m=\u001b[39mdtype)\n",
      "\u001b[1;31mValueError\u001b[0m: could not convert string to float: 'NO CONTROLS'"
     ]
    }
   ],
   "source": [
    "clf = DecisionTreeClassifier(max_depth = None, random_state = 1)\n",
    "clf = clf.fit(X_train, y_train)\n",
    "y_pred = clf.predict(X_test)\n",
    "print(\"Accuracy:\",metrics.accuracy_score(y_test, y_pred))"
   ]
  },
  {
   "cell_type": "markdown",
   "metadata": {},
   "source": [
    "#### Data Pre-processing"
   ]
  },
  {
   "cell_type": "markdown",
   "metadata": {},
   "source": [
    "#### Model Selection"
   ]
  },
  {
   "cell_type": "markdown",
   "metadata": {},
   "source": [
    "#### Data Splitting"
   ]
  },
  {
   "cell_type": "markdown",
   "metadata": {},
   "source": [
    "#### Training and Test"
   ]
  },
  {
   "cell_type": "markdown",
   "metadata": {},
   "source": [
    "#### Interpretation"
   ]
  }
 ],
 "metadata": {
  "kernelspec": {
   "display_name": "Python 3 (ipykernel)",
   "language": "python",
   "name": "python3"
  },
  "language_info": {
   "codemirror_mode": {
    "name": "ipython",
    "version": 3
   },
   "file_extension": ".py",
   "mimetype": "text/x-python",
   "name": "python",
   "nbconvert_exporter": "python",
   "pygments_lexer": "ipython3",
   "version": "3.11.4"
  }
 },
 "nbformat": 4,
 "nbformat_minor": 2
}
