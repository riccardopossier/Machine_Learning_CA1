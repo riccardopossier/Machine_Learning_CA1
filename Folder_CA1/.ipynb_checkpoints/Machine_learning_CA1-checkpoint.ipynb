{
 "cells": [
  {
   "cell_type": "markdown",
   "metadata": {},
   "source": [
    "## Machine Learning Project"
   ]
  },
  {
   "cell_type": "markdown",
   "metadata": {},
   "source": [
    "**o What are the most important features for predicting X as a target variable?**\n",
    "\n",
    "**o Which classification approach do you prefer for the prediction of X as a target variable, and why?**\n",
    "\n",
    "**o How to classify the loyal and churn customers using Support Vector Machines?**\n",
    "\n",
    "**o Why is dimensionality reduction important in machine learning?**\n",
    "\n",
    "\n",
    "\n",
    "\n",
    "**a) Logical justification based on the reasoning for the specific choice of machine learning approaches.**\n",
    "\n",
    "**b) Multiple machine learning approaches (at least two) using hyperparameters and a comparison between the chosen modelling approaches.**\n",
    "\n",
    "**c) Visualise your comparison of ML modelling outcomes. You may use a statistical approach to argue that one feature is more important than other features (for example, using PCA).**\n",
    "\n",
    "**d) Cross-validation methods should be used to justify the authenticity of your ML results.**\n",
    "\n",
    "\n",
    "\n",
    "\n",
    "**1. Motivation, a description of the problem domain, and an explanation of how the project's goals are justified using Prediction /Classification / Clustering Rules / Dimensionality Reduction etc.. (10 marks)**\n",
    "\n",
    "**2. Characterization of data, explanation and description of techniques used for the variation in the accuracy across three training splits (10% / 20%/ 30%) using cross validation techniques. (30 marks)**\n",
    "\n",
    "**3. Interpret and explain the results obtained, discuss overfitting / underfitting / generalisation, provide a rationale for the chosen model and use visualisations to support your findings. Comments in Python code, conclusions of the project should be specified at the end of the report. Harvard Style must be used for citations and references. (20 marks)**\n",
    "\n",
    "**4. Each team member presents a PowerPoint presentation of their work (maximum 5 slides) to emphasize their distinctive contributions based on their involvement in the project's conceptual understanding, code development, and deployment. (20 marks individual)**\n",
    "\n",
    "**5. Each team member fully described their individual contributions to the project in a reflective journal, using at least 500 to 700 words as well as images, diagrams, figures, and visualizations to elaborate his/ her work. (20 marks individual)**\n"
   ]
  },
  {
   "cell_type": "markdown",
   "metadata": {},
   "source": [
    "#### Introduction"
   ]
  },
  {
   "cell_type": "markdown",
   "metadata": {},
   "source": [
    "#### Data Collection"
   ]
  },
  {
   "cell_type": "code",
   "execution_count": 1,
   "metadata": {},
   "outputs": [],
   "source": [
    "import pandas as pd\n",
    "import missingno as msno\n",
    "import matplotlib as plt\n",
    "import numpy as np\n",
    "import seaborn as sns\n",
    "df= pd.read_csv(\"Traffic_Crashes_-_Crashes.csv\")"
   ]
  },
  {
   "cell_type": "code",
   "execution_count": 2,
   "metadata": {},
   "outputs": [
    {
     "data": {
      "text/plain": [
       "(746498, 49)"
      ]
     },
     "execution_count": 2,
     "metadata": {},
     "output_type": "execute_result"
    }
   ],
   "source": [
    "df.shape"
   ]
  },
  {
   "cell_type": "code",
   "execution_count": 35,
   "metadata": {},
   "outputs": [
    {
     "data": {
      "text/html": [
       "<div>\n",
       "<style scoped>\n",
       "    .dataframe tbody tr th:only-of-type {\n",
       "        vertical-align: middle;\n",
       "    }\n",
       "\n",
       "    .dataframe tbody tr th {\n",
       "        vertical-align: top;\n",
       "    }\n",
       "\n",
       "    .dataframe thead th {\n",
       "        text-align: right;\n",
       "    }\n",
       "</style>\n",
       "<table border=\"1\" class=\"dataframe\">\n",
       "  <thead>\n",
       "    <tr style=\"text-align: right;\">\n",
       "      <th></th>\n",
       "      <th>RD_NO</th>\n",
       "      <th>CRASH_DATE</th>\n",
       "      <th>POSTED_SPEED_LIMIT</th>\n",
       "      <th>TRAFFIC_CONTROL_DEVICE</th>\n",
       "      <th>DEVICE_CONDITION</th>\n",
       "      <th>WEATHER_CONDITION</th>\n",
       "      <th>LIGHTING_CONDITION</th>\n",
       "      <th>FIRST_CRASH_TYPE</th>\n",
       "      <th>TRAFFICWAY_TYPE</th>\n",
       "      <th>ALIGNMENT</th>\n",
       "      <th>ROADWAY_SURFACE_COND</th>\n",
       "      <th>ROAD_DEFECT</th>\n",
       "      <th>CRASH_TYPE</th>\n",
       "      <th>DAMAGE</th>\n",
       "      <th>DATE_POLICE_NOTIFIED</th>\n",
       "      <th>PRIM_CONTRIBUTORY_CAUSE</th>\n",
       "      <th>SEC_CONTRIBUTORY_CAUSE</th>\n",
       "      <th>STREET_NO</th>\n",
       "      <th>STREET_DIRECTION</th>\n",
       "      <th>STREET_NAME</th>\n",
       "      <th>BEAT_OF_OCCURRENCE</th>\n",
       "      <th>NUM_UNITS</th>\n",
       "      <th>MOST_SEVERE_INJURY</th>\n",
       "      <th>CRASH_HOUR</th>\n",
       "      <th>CRASH_DAY_OF_WEEK</th>\n",
       "      <th>CRASH_MONTH</th>\n",
       "    </tr>\n",
       "  </thead>\n",
       "  <tbody>\n",
       "    <tr>\n",
       "      <th>0</th>\n",
       "      <td>JG341943</td>\n",
       "      <td>07/12/2023 03:05:00 PM</td>\n",
       "      <td>30</td>\n",
       "      <td>NO CONTROLS</td>\n",
       "      <td>NO CONTROLS</td>\n",
       "      <td>CLEAR</td>\n",
       "      <td>DAYLIGHT</td>\n",
       "      <td>TURNING</td>\n",
       "      <td>NOT DIVIDED</td>\n",
       "      <td>STRAIGHT AND LEVEL</td>\n",
       "      <td>UNKNOWN</td>\n",
       "      <td>NO DEFECTS</td>\n",
       "      <td>NO INJURY / DRIVE AWAY</td>\n",
       "      <td>OVER $1,500</td>\n",
       "      <td>07/15/2023 11:30:00 AM</td>\n",
       "      <td>IMPROPER TURNING/NO SIGNAL</td>\n",
       "      <td>UNABLE TO DETERMINE</td>\n",
       "      <td>4754</td>\n",
       "      <td>W</td>\n",
       "      <td>63RD ST</td>\n",
       "      <td>813.0</td>\n",
       "      <td>2</td>\n",
       "      <td>NO INDICATION OF INJURY</td>\n",
       "      <td>15</td>\n",
       "      <td>4</td>\n",
       "      <td>7</td>\n",
       "    </tr>\n",
       "    <tr>\n",
       "      <th>1</th>\n",
       "      <td>JG338388</td>\n",
       "      <td>07/12/2023 05:50:00 PM</td>\n",
       "      <td>30</td>\n",
       "      <td>NO CONTROLS</td>\n",
       "      <td>NO CONTROLS</td>\n",
       "      <td>CLEAR</td>\n",
       "      <td>DAYLIGHT</td>\n",
       "      <td>REAR END</td>\n",
       "      <td>NOT DIVIDED</td>\n",
       "      <td>STRAIGHT AND LEVEL</td>\n",
       "      <td>DRY</td>\n",
       "      <td>NO DEFECTS</td>\n",
       "      <td>NO INJURY / DRIVE AWAY</td>\n",
       "      <td>$501 - $1,500</td>\n",
       "      <td>07/12/2023 06:41:00 PM</td>\n",
       "      <td>FOLLOWING TOO CLOSELY</td>\n",
       "      <td>NOT APPLICABLE</td>\n",
       "      <td>8300</td>\n",
       "      <td>S</td>\n",
       "      <td>PULASKI RD</td>\n",
       "      <td>834.0</td>\n",
       "      <td>2</td>\n",
       "      <td>NO INDICATION OF INJURY</td>\n",
       "      <td>17</td>\n",
       "      <td>4</td>\n",
       "      <td>7</td>\n",
       "    </tr>\n",
       "    <tr>\n",
       "      <th>2</th>\n",
       "      <td>JG350008</td>\n",
       "      <td>07/12/2023 02:00:00 PM</td>\n",
       "      <td>30</td>\n",
       "      <td>NO CONTROLS</td>\n",
       "      <td>NO CONTROLS</td>\n",
       "      <td>CLEAR</td>\n",
       "      <td>DAYLIGHT</td>\n",
       "      <td>OTHER OBJECT</td>\n",
       "      <td>NOT DIVIDED</td>\n",
       "      <td>STRAIGHT AND LEVEL</td>\n",
       "      <td>DRY</td>\n",
       "      <td>RUT, HOLES</td>\n",
       "      <td>NO INJURY / DRIVE AWAY</td>\n",
       "      <td>$501 - $1,500</td>\n",
       "      <td>07/21/2023 10:10:00 AM</td>\n",
       "      <td>NOT APPLICABLE</td>\n",
       "      <td>NOT APPLICABLE</td>\n",
       "      <td>9615</td>\n",
       "      <td>S</td>\n",
       "      <td>STONY ISLAND AVE</td>\n",
       "      <td>431.0</td>\n",
       "      <td>1</td>\n",
       "      <td>NO INDICATION OF INJURY</td>\n",
       "      <td>14</td>\n",
       "      <td>4</td>\n",
       "      <td>7</td>\n",
       "    </tr>\n",
       "    <tr>\n",
       "      <th>3</th>\n",
       "      <td>JG338049</td>\n",
       "      <td>07/12/2023 07:05:00 AM</td>\n",
       "      <td>30</td>\n",
       "      <td>TRAFFIC SIGNAL</td>\n",
       "      <td>UNKNOWN</td>\n",
       "      <td>FREEZING RAIN/DRIZZLE</td>\n",
       "      <td>DAYLIGHT</td>\n",
       "      <td>REAR END</td>\n",
       "      <td>NOT DIVIDED</td>\n",
       "      <td>STRAIGHT AND LEVEL</td>\n",
       "      <td>UNKNOWN</td>\n",
       "      <td>UNKNOWN</td>\n",
       "      <td>NO INJURY / DRIVE AWAY</td>\n",
       "      <td>$501 - $1,500</td>\n",
       "      <td>07/12/2023 02:18:00 PM</td>\n",
       "      <td>FOLLOWING TOO CLOSELY</td>\n",
       "      <td>UNABLE TO DETERMINE</td>\n",
       "      <td>2370</td>\n",
       "      <td>N</td>\n",
       "      <td>ASHLAND AVE</td>\n",
       "      <td>1811.0</td>\n",
       "      <td>2</td>\n",
       "      <td>NO INDICATION OF INJURY</td>\n",
       "      <td>7</td>\n",
       "      <td>4</td>\n",
       "      <td>7</td>\n",
       "    </tr>\n",
       "    <tr>\n",
       "      <th>4</th>\n",
       "      <td>JG338431</td>\n",
       "      <td>07/12/2023 06:30:00 PM</td>\n",
       "      <td>30</td>\n",
       "      <td>NO CONTROLS</td>\n",
       "      <td>NO CONTROLS</td>\n",
       "      <td>CLEAR</td>\n",
       "      <td>DAYLIGHT</td>\n",
       "      <td>REAR END</td>\n",
       "      <td>NOT DIVIDED</td>\n",
       "      <td>STRAIGHT AND LEVEL</td>\n",
       "      <td>WET</td>\n",
       "      <td>NO DEFECTS</td>\n",
       "      <td>NO INJURY / DRIVE AWAY</td>\n",
       "      <td>OVER $1,500</td>\n",
       "      <td>07/12/2023 07:15:00 PM</td>\n",
       "      <td>FOLLOWING TOO CLOSELY</td>\n",
       "      <td>FOLLOWING TOO CLOSELY</td>\n",
       "      <td>5200</td>\n",
       "      <td>N</td>\n",
       "      <td>ELSTON AVE</td>\n",
       "      <td>1623.0</td>\n",
       "      <td>2</td>\n",
       "      <td>NO INDICATION OF INJURY</td>\n",
       "      <td>18</td>\n",
       "      <td>4</td>\n",
       "      <td>7</td>\n",
       "    </tr>\n",
       "  </tbody>\n",
       "</table>\n",
       "</div>"
      ],
      "text/plain": [
       "      RD_NO              CRASH_DATE  POSTED_SPEED_LIMIT  \\\n",
       "0  JG341943  07/12/2023 03:05:00 PM                  30   \n",
       "1  JG338388  07/12/2023 05:50:00 PM                  30   \n",
       "2  JG350008  07/12/2023 02:00:00 PM                  30   \n",
       "3  JG338049  07/12/2023 07:05:00 AM                  30   \n",
       "4  JG338431  07/12/2023 06:30:00 PM                  30   \n",
       "\n",
       "  TRAFFIC_CONTROL_DEVICE DEVICE_CONDITION      WEATHER_CONDITION  \\\n",
       "0            NO CONTROLS      NO CONTROLS                  CLEAR   \n",
       "1            NO CONTROLS      NO CONTROLS                  CLEAR   \n",
       "2            NO CONTROLS      NO CONTROLS                  CLEAR   \n",
       "3         TRAFFIC SIGNAL          UNKNOWN  FREEZING RAIN/DRIZZLE   \n",
       "4            NO CONTROLS      NO CONTROLS                  CLEAR   \n",
       "\n",
       "  LIGHTING_CONDITION FIRST_CRASH_TYPE TRAFFICWAY_TYPE           ALIGNMENT  \\\n",
       "0           DAYLIGHT          TURNING     NOT DIVIDED  STRAIGHT AND LEVEL   \n",
       "1           DAYLIGHT         REAR END     NOT DIVIDED  STRAIGHT AND LEVEL   \n",
       "2           DAYLIGHT     OTHER OBJECT     NOT DIVIDED  STRAIGHT AND LEVEL   \n",
       "3           DAYLIGHT         REAR END     NOT DIVIDED  STRAIGHT AND LEVEL   \n",
       "4           DAYLIGHT         REAR END     NOT DIVIDED  STRAIGHT AND LEVEL   \n",
       "\n",
       "  ROADWAY_SURFACE_COND ROAD_DEFECT              CRASH_TYPE         DAMAGE  \\\n",
       "0              UNKNOWN  NO DEFECTS  NO INJURY / DRIVE AWAY    OVER $1,500   \n",
       "1                  DRY  NO DEFECTS  NO INJURY / DRIVE AWAY  $501 - $1,500   \n",
       "2                  DRY  RUT, HOLES  NO INJURY / DRIVE AWAY  $501 - $1,500   \n",
       "3              UNKNOWN     UNKNOWN  NO INJURY / DRIVE AWAY  $501 - $1,500   \n",
       "4                  WET  NO DEFECTS  NO INJURY / DRIVE AWAY    OVER $1,500   \n",
       "\n",
       "     DATE_POLICE_NOTIFIED     PRIM_CONTRIBUTORY_CAUSE SEC_CONTRIBUTORY_CAUSE  \\\n",
       "0  07/15/2023 11:30:00 AM  IMPROPER TURNING/NO SIGNAL    UNABLE TO DETERMINE   \n",
       "1  07/12/2023 06:41:00 PM       FOLLOWING TOO CLOSELY         NOT APPLICABLE   \n",
       "2  07/21/2023 10:10:00 AM              NOT APPLICABLE         NOT APPLICABLE   \n",
       "3  07/12/2023 02:18:00 PM       FOLLOWING TOO CLOSELY    UNABLE TO DETERMINE   \n",
       "4  07/12/2023 07:15:00 PM       FOLLOWING TOO CLOSELY  FOLLOWING TOO CLOSELY   \n",
       "\n",
       "   STREET_NO STREET_DIRECTION       STREET_NAME  BEAT_OF_OCCURRENCE  \\\n",
       "0       4754                W           63RD ST               813.0   \n",
       "1       8300                S        PULASKI RD               834.0   \n",
       "2       9615                S  STONY ISLAND AVE               431.0   \n",
       "3       2370                N       ASHLAND AVE              1811.0   \n",
       "4       5200                N        ELSTON AVE              1623.0   \n",
       "\n",
       "   NUM_UNITS       MOST_SEVERE_INJURY  CRASH_HOUR  CRASH_DAY_OF_WEEK  \\\n",
       "0          2  NO INDICATION OF INJURY          15                  4   \n",
       "1          2  NO INDICATION OF INJURY          17                  4   \n",
       "2          1  NO INDICATION OF INJURY          14                  4   \n",
       "3          2  NO INDICATION OF INJURY           7                  4   \n",
       "4          2  NO INDICATION OF INJURY          18                  4   \n",
       "\n",
       "   CRASH_MONTH  \n",
       "0            7  \n",
       "1            7  \n",
       "2            7  \n",
       "3            7  \n",
       "4            7  "
      ]
     },
     "execution_count": 35,
     "metadata": {},
     "output_type": "execute_result"
    }
   ],
   "source": [
    "pd.set_option('display.max_columns', None)\n",
    "df.head()"
   ]
  },
  {
   "cell_type": "code",
   "execution_count": 4,
   "metadata": {},
   "outputs": [],
   "source": [
    "#nan_graph_1=msno.matrix(df.sample(axis=1, n=49))"
   ]
  },
  {
   "cell_type": "code",
   "execution_count": 5,
   "metadata": {},
   "outputs": [
    {
     "data": {
      "text/plain": [
       "CRASH_RECORD_ID                       0\n",
       "RD_NO                              4307\n",
       "CRASH_DATE_EST_I                 690109\n",
       "CRASH_DATE                            0\n",
       "POSTED_SPEED_LIMIT                    0\n",
       "TRAFFIC_CONTROL_DEVICE                0\n",
       "DEVICE_CONDITION                      0\n",
       "WEATHER_CONDITION                     0\n",
       "LIGHTING_CONDITION                    0\n",
       "FIRST_CRASH_TYPE                      0\n",
       "TRAFFICWAY_TYPE                       0\n",
       "LANE_CNT                         547494\n",
       "ALIGNMENT                             0\n",
       "ROADWAY_SURFACE_COND                  0\n",
       "ROAD_DEFECT                           0\n",
       "REPORT_TYPE                       21222\n",
       "CRASH_TYPE                            0\n",
       "INTERSECTION_RELATED_I           575368\n",
       "NOT_RIGHT_OF_WAY_I               711724\n",
       "HIT_AND_RUN_I                    513706\n",
       "DAMAGE                                0\n",
       "DATE_POLICE_NOTIFIED                  0\n",
       "PRIM_CONTRIBUTORY_CAUSE               0\n",
       "SEC_CONTRIBUTORY_CAUSE                0\n",
       "STREET_NO                             0\n",
       "STREET_DIRECTION                      4\n",
       "STREET_NAME                           1\n",
       "BEAT_OF_OCCURRENCE                    5\n",
       "PHOTOS_TAKEN_I                   737007\n",
       "STATEMENTS_TAKEN_I               730402\n",
       "DOORING_I                        744212\n",
       "WORK_ZONE_I                      742175\n",
       "WORK_ZONE_TYPE                   743128\n",
       "WORKERS_PRESENT_I                745383\n",
       "NUM_UNITS                             0\n",
       "MOST_SEVERE_INJURY                 1630\n",
       "INJURIES_TOTAL                     1619\n",
       "INJURIES_FATAL                     1619\n",
       "INJURIES_INCAPACITATING            1619\n",
       "INJURIES_NON_INCAPACITATING        1619\n",
       "INJURIES_REPORTED_NOT_EVIDENT      1619\n",
       "INJURIES_NO_INDICATION             1619\n",
       "INJURIES_UNKNOWN                   1619\n",
       "CRASH_HOUR                            0\n",
       "CRASH_DAY_OF_WEEK                     0\n",
       "CRASH_MONTH                           0\n",
       "LATITUDE                           4908\n",
       "LONGITUDE                          4908\n",
       "LOCATION                           4908\n",
       "dtype: int64"
      ]
     },
     "execution_count": 5,
     "metadata": {},
     "output_type": "execute_result"
    }
   ],
   "source": [
    "df.isnull().sum()"
   ]
  },
  {
   "cell_type": "markdown",
   "metadata": {},
   "source": [
    "\"MOST_SEVERE_INJURY\" will be our Target varible. As you can see there are 5 possible outcomes and 1630 Null values. We will need to address the fact that \"NO INDICATION OF INJURY\" occurs 643k times but \"FATAL\" only occurs 812."
   ]
  },
  {
   "cell_type": "code",
   "execution_count": 30,
   "metadata": {},
   "outputs": [
    {
     "data": {
      "text/plain": [
       "array(['NO INDICATION OF INJURY', 'REPORTED, NOT EVIDENT',\n",
       "       'NONINCAPACITATING INJURY', 'INCAPACITATING INJURY', 'FATAL'],\n",
       "      dtype=object)"
      ]
     },
     "execution_count": 30,
     "metadata": {},
     "output_type": "execute_result"
    }
   ],
   "source": [
    "df[\"MOST_SEVERE_INJURY\"].unique()"
   ]
  },
  {
   "cell_type": "code",
   "execution_count": 32,
   "metadata": {},
   "outputs": [
    {
     "data": {
      "text/plain": [
       "NO INDICATION OF INJURY     643451\n",
       "NONINCAPACITATING INJURY     57308\n",
       "REPORTED, NOT EVIDENT        30560\n",
       "INCAPACITATING INJURY        12728\n",
       "FATAL                          812\n",
       "Name: MOST_SEVERE_INJURY, dtype: int64"
      ]
     },
     "execution_count": 32,
     "metadata": {},
     "output_type": "execute_result"
    }
   ],
   "source": [
    "df[\"MOST_SEVERE_INJURY\"].value_counts()"
   ]
  },
  {
   "cell_type": "code",
   "execution_count": 7,
   "metadata": {},
   "outputs": [
    {
     "data": {
      "text/plain": [
       "array([ 0., nan])"
      ]
     },
     "execution_count": 7,
     "metadata": {},
     "output_type": "execute_result"
    }
   ],
   "source": [
    "df[\"INJURIES_UNKNOWN\"].unique()"
   ]
  },
  {
   "cell_type": "code",
   "execution_count": 10,
   "metadata": {},
   "outputs": [],
   "source": [
    "# from ydata_profiling import ProfileReport\n",
    "# slice_df = df.iloc[:, :10]\n",
    "# report = ProfileReport(df, title='My Data', minimal=True)\n",
    "# report.to_file(\"Crushes_in_Chicago.html\")"
   ]
  },
  {
   "cell_type": "markdown",
   "metadata": {},
   "source": [
    "We proceed to cut off the constant variable \"INJURIES_UNKNOWN\" with number of Zeros (%)\t99.8%"
   ]
  },
  {
   "cell_type": "code",
   "execution_count": 11,
   "metadata": {},
   "outputs": [],
   "source": [
    "df = df.drop(columns=['INJURIES_UNKNOWN'])"
   ]
  },
  {
   "cell_type": "markdown",
   "metadata": {},
   "source": [
    "We drop the features: \"INJURIES_TOTAL\", \"INJURIES_FATAL\", \"INJURIES_INCAPACITATING\", \"INJURIES_NON_INCAPACITATING\", \"INJURIES_REPORTED_NOT_EVIDENT\", \"INJURIES_NO_INDICATION\" as they count the outcome of our target varible. Using these in the model will create a model that will reliant on them of and won't be appliable for predicting new data. "
   ]
  },
  {
   "cell_type": "code",
   "execution_count": 12,
   "metadata": {},
   "outputs": [],
   "source": [
    "df = df.drop(columns=[\"INJURIES_TOTAL\",\"INJURIES_FATAL\",\"INJURIES_INCAPACITATING\",\"INJURIES_NON_INCAPACITATING\",\"INJURIES_REPORTED_NOT_EVIDENT\",\"INJURIES_NO_INDICATION\"])"
   ]
  },
  {
   "cell_type": "markdown",
   "metadata": {},
   "source": [
    "We drop \"CRASH_RECORD_ID\" as it only has unique values"
   ]
  },
  {
   "cell_type": "code",
   "execution_count": 13,
   "metadata": {},
   "outputs": [],
   "source": [
    "df =df.drop(columns='CRASH_RECORD_ID')"
   ]
  },
  {
   "cell_type": "markdown",
   "metadata": {},
   "source": [
    "We proceed to cut off all the variables with 65% or more of missing values."
   ]
  },
  {
   "cell_type": "code",
   "execution_count": 14,
   "metadata": {},
   "outputs": [],
   "source": [
    "df = df.drop(columns=['CRASH_DATE_EST_I','LANE_CNT', 'INTERSECTION_RELATED_I', 'NOT_RIGHT_OF_WAY_I', 'HIT_AND_RUN_I', 'PHOTOS_TAKEN_I', 'STATEMENTS_TAKEN_I', 'DOORING_I', 'WORK_ZONE_I','WORK_ZONE_TYPE', 'WORKERS_PRESENT_I'])"
   ]
  },
  {
   "cell_type": "code",
   "execution_count": 15,
   "metadata": {},
   "outputs": [
    {
     "data": {
      "text/plain": [
       "(746498, 30)"
      ]
     },
     "execution_count": 15,
     "metadata": {},
     "output_type": "execute_result"
    }
   ],
   "source": [
    "df.shape"
   ]
  },
  {
   "cell_type": "markdown",
   "metadata": {},
   "source": [
    "Dropping all rows where our target varible is NAN."
   ]
  },
  {
   "cell_type": "code",
   "execution_count": 16,
   "metadata": {},
   "outputs": [],
   "source": [
    "df.dropna(subset=[\"MOST_SEVERE_INJURY\"],inplace=True)"
   ]
  },
  {
   "cell_type": "code",
   "execution_count": 17,
   "metadata": {},
   "outputs": [
    {
     "data": {
      "text/plain": [
       "RD_NO                       4294\n",
       "CRASH_DATE                     0\n",
       "POSTED_SPEED_LIMIT             0\n",
       "TRAFFIC_CONTROL_DEVICE         0\n",
       "DEVICE_CONDITION               0\n",
       "WEATHER_CONDITION              0\n",
       "LIGHTING_CONDITION             0\n",
       "FIRST_CRASH_TYPE               0\n",
       "TRAFFICWAY_TYPE                0\n",
       "ALIGNMENT                      0\n",
       "ROADWAY_SURFACE_COND           0\n",
       "ROAD_DEFECT                    0\n",
       "REPORT_TYPE                21180\n",
       "CRASH_TYPE                     0\n",
       "DAMAGE                         0\n",
       "DATE_POLICE_NOTIFIED           0\n",
       "PRIM_CONTRIBUTORY_CAUSE        0\n",
       "SEC_CONTRIBUTORY_CAUSE         0\n",
       "STREET_NO                      0\n",
       "STREET_DIRECTION               4\n",
       "STREET_NAME                    1\n",
       "BEAT_OF_OCCURRENCE             5\n",
       "NUM_UNITS                      0\n",
       "MOST_SEVERE_INJURY             0\n",
       "CRASH_HOUR                     0\n",
       "CRASH_DAY_OF_WEEK              0\n",
       "CRASH_MONTH                    0\n",
       "LATITUDE                    4897\n",
       "LONGITUDE                   4897\n",
       "LOCATION                    4897\n",
       "dtype: int64"
      ]
     },
     "execution_count": 17,
     "metadata": {},
     "output_type": "execute_result"
    }
   ],
   "source": [
    "df.isnull().sum()"
   ]
  },
  {
   "cell_type": "markdown",
   "metadata": {},
   "source": [
    "Null values now are REPORT_TYPE which seems to be how police report the crash after the crash has happened, LATITUDE\n",
    "LONGITUDE and LOCATION which report same info as STREET NO AND STREET NAME, recommand we just drop these three. RD_NO. adn few in STREET_DIRECTION, SREET_NAME and BEAT_OF_OCCURRENCE. Can drop these rows,10 rows isn't significate. "
   ]
  },
  {
   "cell_type": "code",
   "execution_count": 18,
   "metadata": {},
   "outputs": [],
   "source": [
    "df =df.drop(columns=['LATITUDE', 'LONGITUDE', 'LOCATION','REPORT_TYPE'])"
   ]
  },
  {
   "cell_type": "code",
   "execution_count": 19,
   "metadata": {},
   "outputs": [],
   "source": [
    "df.dropna(subset=[\"STREET_DIRECTION\", \"STREET_NAME\", \"BEAT_OF_OCCURRENCE\"],inplace=True)"
   ]
  },
  {
   "cell_type": "markdown",
   "metadata": {},
   "source": [
    "After investigating the \"RD_NO\" feature a bit further, we discovered that it also only has Unique Values, so simularily to \"CRASH_RECORD_ID\" we are going to drop it. "
   ]
  },
  {
   "cell_type": "code",
   "execution_count": 29,
   "metadata": {},
   "outputs": [
    {
     "data": {
      "text/plain": [
       "count       740565\n",
       "unique      740565\n",
       "top       JG341943\n",
       "freq             1\n",
       "Name: RD_NO, dtype: object"
      ]
     },
     "execution_count": 29,
     "metadata": {},
     "output_type": "execute_result"
    }
   ],
   "source": [
    "df['RD_NO'].describe()"
   ]
  },
  {
   "cell_type": "code",
   "execution_count": null,
   "metadata": {},
   "outputs": [],
   "source": [
    "df =df.drop(columns='RD_NO')"
   ]
  },
  {
   "cell_type": "markdown",
   "metadata": {},
   "source": [
    "#### Data Pre-processing"
   ]
  },
  {
   "cell_type": "markdown",
   "metadata": {},
   "source": [
    "#### Model Selection"
   ]
  },
  {
   "cell_type": "markdown",
   "metadata": {},
   "source": [
    "#### Data Splitting"
   ]
  },
  {
   "cell_type": "markdown",
   "metadata": {},
   "source": [
    "#### Training and Test"
   ]
  },
  {
   "cell_type": "markdown",
   "metadata": {},
   "source": [
    "#### Interpretation"
   ]
  }
 ],
 "metadata": {
  "kernelspec": {
   "display_name": "Python 3 (ipykernel)",
   "language": "python",
   "name": "python3"
  },
  "language_info": {
   "codemirror_mode": {
    "name": "ipython",
    "version": 3
   },
   "file_extension": ".py",
   "mimetype": "text/x-python",
   "name": "python",
   "nbconvert_exporter": "python",
   "pygments_lexer": "ipython3",
   "version": "3.11.4"
  }
 },
 "nbformat": 4,
 "nbformat_minor": 2
}
